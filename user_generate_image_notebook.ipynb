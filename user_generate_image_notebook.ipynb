{
 "cells": [
  {
   "cell_type": "code",
   "execution_count": null,
   "metadata": {
    "collapsed": true
   },
   "outputs": [],
   "source": [
    "!pip install -qr requirements.txt"
   ]
  },
  {
   "cell_type": "code",
   "execution_count": null,
   "outputs": [],
   "source": [
    "import os\n",
    "# model checkpoint\n",
    "!gdown 1p8L-6GWNrlrO2NaHYb9SPqFiyJE4sy1U\n",
    "# test.txt\n",
    "!gdwon 1mCylLZH9oZffBMK8XRG6T_SRY6Qkr2w5"
   ],
   "metadata": {
    "collapsed": false
   }
  },
  {
   "cell_type": "code",
   "execution_count": null,
   "outputs": [],
   "source": [
    "if not os.path.exists('./models_dir'):\n",
    "    os.mkdir('./models_dir')\n",
    "!mv model_diffusion_v4.ckpt ./models_dir"
   ],
   "metadata": {
    "collapsed": false
   }
  },
  {
   "cell_type": "code",
   "execution_count": null,
   "outputs": [],
   "source": [
    "from main_util import read_config\n",
    "import torch\n",
    "import os\n",
    "from main_util import make_generate\n",
    "import numpy as np\n",
    "import random\n",
    "\n",
    "from transformers import logging\n",
    "logging.set_verbosity_error()\n",
    "\n",
    "\n",
    "def generate_images(imagen, text_embeddings, labels, config, names, iter, dir):\n",
    "  embeds = text_embeddings[labels].cuda()\n",
    "  images = imagen.sample(text_embeds=embeds, batch_size = config[\"batch_size\"],\n",
    "                                    return_pil_images = True,cond_scale = 3.)\n",
    "\n",
    "  for j, img in enumerate(images):\n",
    "    filename = f'./{dir}/{names[j]}_{iter}.jpg'\n",
    "    img.save(filename)\n",
    "\n",
    "\n",
    "def read_test_file(path):\n",
    "    names = []\n",
    "    labels = []\n",
    "    with open(path,'r') as f:\n",
    "        lines = f.readlines()\n",
    "        for line in lines:\n",
    "            name,label = line.split(';')\n",
    "            names.append(name)\n",
    "            labels.append(int(label,2))\n",
    "    return names,labels\n",
    "\n",
    "\n",
    "hyperparams = read_config()\n",
    "hyperparams['model_name'] = 'model_diffusion_v4.ckpt'\n",
    "hyperparams['image_save_dir'] = 'images_generated'\n",
    "if hyperparams[\"deterministic_generate_images\"]:\n",
    "    seed = 42\n",
    "    torch.manual_seed(seed)\n",
    "    torch.cuda.manual_seed(seed)\n",
    "    torch.cuda.manual_seed_all(seed)\n",
    "    np.random.seed(seed)\n",
    "    random.seed(seed)\n",
    "    torch.backends.cudnn.benchmark = False\n",
    "    torch.backends.cudnn.deterministic = True\n",
    "\n",
    "trainer,text_embeddings = make_generate(hyperparams)\n",
    "names,labels_test = read_test_file('test.txt')\n",
    "\n",
    "if not os.path.exists(hyperparams[\"image_save_dir\"]):\n",
    "  os.mkdir(hyperparams[\"image_save_dir\"])\n",
    "\n",
    "imagen = trainer.imagen\n",
    "if hyperparams[\"convert_from_trainer\"]:\n",
    "    trainer.load(os.path.join(hyperparams[\"model_save_dir\"],hyperparams[\"model_name\"]))\n",
    "else:\n",
    "   imagen.load_state_dict(torch.load(os.path.join(hyperparams[\"model_save_dir\"],hyperparams[\"model_name\"])))\n",
    "\n",
    "print(\"Model loaded\")\n",
    "\n",
    "for iter in ['A','B','C','D','E','F','G','H','I','J']:\n",
    "  generate_images(imagen,text_embeddings,\n",
    "                labels_test,hyperparams,names,iter,hyperparams[\"image_save_dir\"])"
   ],
   "metadata": {
    "collapsed": false
   }
  }
 ],
 "metadata": {
  "kernelspec": {
   "display_name": "Python 3",
   "language": "python",
   "name": "python3"
  },
  "language_info": {
   "codemirror_mode": {
    "name": "ipython",
    "version": 2
   },
   "file_extension": ".py",
   "mimetype": "text/x-python",
   "name": "python",
   "nbconvert_exporter": "python",
   "pygments_lexer": "ipython2",
   "version": "2.7.6"
  }
 },
 "nbformat": 4,
 "nbformat_minor": 0
}
